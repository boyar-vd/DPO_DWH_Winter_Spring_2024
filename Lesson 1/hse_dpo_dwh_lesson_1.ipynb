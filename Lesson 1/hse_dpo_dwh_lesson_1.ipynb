{
 "cells": [
  {
   "cell_type": "markdown",
   "id": "6c620e3d",
   "metadata": {},
   "source": [
    "*Импортируем библиотеки*"
   ]
  },
  {
   "cell_type": "code",
   "execution_count": null,
   "id": "26888741",
   "metadata": {},
   "outputs": [],
   "source": [
    "import pandas as pd\n",
    "pd.set_option('display.max_columns', None)\n",
    "\n",
    "import warnings\n",
    "warnings.filterwarnings('ignore')"
   ]
  },
  {
   "cell_type": "markdown",
   "id": "2034f50e",
   "metadata": {},
   "source": [
    "*Распаковываем и загружаем данные*"
   ]
  },
  {
   "cell_type": "code",
   "execution_count": null,
   "id": "cd1c421b",
   "metadata": {},
   "outputs": [],
   "source": [
    "import zipfile\n",
    "with zipfile.ZipFile('data/fraud.csv.zip', 'r') as archive:\n",
    "    archive.extractall('data/')"
   ]
  },
  {
   "cell_type": "code",
   "execution_count": null,
   "id": "dc190211",
   "metadata": {},
   "outputs": [],
   "source": [
    "df = pd.read_csv('data/fraud.csv')"
   ]
  },
  {
   "cell_type": "markdown",
   "id": "cb36a576",
   "metadata": {},
   "source": [
    "*Посмотрим на датасет*"
   ]
  },
  {
   "cell_type": "code",
   "execution_count": null,
   "id": "6976062f",
   "metadata": {},
   "outputs": [],
   "source": [
    "# code here"
   ]
  },
  {
   "cell_type": "markdown",
   "id": "964f5231",
   "metadata": {},
   "source": [
    "*Удалим незначащие столбцы*"
   ]
  },
  {
   "cell_type": "code",
   "execution_count": null,
   "id": "17808ddb",
   "metadata": {},
   "outputs": [],
   "source": [
    "# code here"
   ]
  },
  {
   "cell_type": "markdown",
   "id": "40d15673",
   "metadata": {},
   "source": [
    "*Посмотрим на пропуски и типы данных*"
   ]
  },
  {
   "cell_type": "code",
   "execution_count": null,
   "id": "499a380d",
   "metadata": {},
   "outputs": [],
   "source": [
    "# code here"
   ]
  },
  {
   "cell_type": "markdown",
   "id": "c8934b0e",
   "metadata": {},
   "source": [
    "*Посмотрим распределение мошеннических операций*"
   ]
  },
  {
   "cell_type": "code",
   "execution_count": null,
   "id": "c81cfe8b",
   "metadata": {},
   "outputs": [],
   "source": [
    "# code here"
   ]
  },
  {
   "cell_type": "markdown",
   "id": "e661e10e",
   "metadata": {},
   "source": [
    "### Задание\n",
    "\n",
    "Вводные:\n",
    "- Новый источник данных - результат разметки транзакционных данных на мошеннические и легальные операции.\n",
    "\n",
    "Необходимо:\n",
    "- Проанализировать данные;\n",
    "- Описать структуру для загрузки данных;\n",
    "- Придумать, как мы можем использовать эти данные.\n",
    "\n",
    "Для этого:\n",
    "- Проанализировать данные (на наличие пропусков и тд.);\n",
    "- Сформировать таблицу в слое \"сырых\" данных для загрузки csv;\n",
    "- Загрузить данные с слой \"сырых\" данных;\n",
    "- Выделить сущности, которые присутствуют в данных. Составить ER-диаграмму слоя детализированных данных;\n",
    "- Придумать 2-3 способа применения полученых данных: какую аналитику мы можем над ними построить и визуализировать в дашбордах? К примеру:\n",
    "    - Построение колоночной диаграммы распределения мошеннических транзакций по городам;\n",
    "    - График: количество мошеннических и легальных транзакций в день (представление: date||fraud_transactions||legal_transactions);\n",
    "-  Описать представление (view), которое могло бы использоваться для построение дашборда по предыдущему пункту."
   ]
  },
  {
   "cell_type": "markdown",
   "id": "139986a8",
   "metadata": {},
   "source": [
    "*1) Создаем подключение к БД*"
   ]
  },
  {
   "cell_type": "code",
   "execution_count": null,
   "id": "d5492473",
   "metadata": {},
   "outputs": [],
   "source": [
    "from sqlalchemy import create_engine"
   ]
  },
  {
   "cell_type": "code",
   "execution_count": null,
   "id": "7c2c977a",
   "metadata": {},
   "outputs": [],
   "source": [
    "def connection_yandex_cloud_dwh(echo):\n",
    "    \"\"\"Connection to DataBase dwh\"\"\"\n",
    "    login = 'student'\n",
    "    password = 'student!'\n",
    "    host = 'rc1b-7ng6ih3jte3824x8.mdb.yandexcloud.net'\n",
    "    port = '6432'\n",
    "    db_name = 'dwh'\n",
    "    return create_engine(f'postgresql://{login}:{password}@{host}:{port}/{db_name}', echo=echo)"
   ]
  },
  {
   "cell_type": "code",
   "execution_count": null,
   "id": "5993a88f",
   "metadata": {},
   "outputs": [],
   "source": [
    "engine = connection_yandex_cloud_dwh(echo=True)"
   ]
  },
  {
   "cell_type": "markdown",
   "id": "9d44df8f",
   "metadata": {},
   "source": [
    "*2) Загружаем данные в слой \"сырых\" данных*"
   ]
  },
  {
   "cell_type": "code",
   "execution_count": null,
   "id": "f50d463c",
   "metadata": {},
   "outputs": [],
   "source": [
    "?df.to_sql"
   ]
  },
  {
   "cell_type": "code",
   "execution_count": null,
   "id": "f05eabba",
   "metadata": {},
   "outputs": [],
   "source": []
  }
 ],
 "metadata": {
  "kernelspec": {
   "display_name": "Python 3 (ipykernel)",
   "language": "python",
   "name": "python3"
  },
  "language_info": {
   "codemirror_mode": {
    "name": "ipython",
    "version": 3
   },
   "file_extension": ".py",
   "mimetype": "text/x-python",
   "name": "python",
   "nbconvert_exporter": "python",
   "pygments_lexer": "ipython3",
   "version": "3.9.13"
  }
 },
 "nbformat": 4,
 "nbformat_minor": 5
}
