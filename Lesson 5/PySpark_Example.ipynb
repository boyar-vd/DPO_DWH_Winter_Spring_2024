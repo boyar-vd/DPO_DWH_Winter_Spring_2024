{
  "nbformat": 4,
  "nbformat_minor": 0,
  "metadata": {
    "colab": {
      "provenance": []
    },
    "kernelspec": {
      "name": "python3",
      "display_name": "Python 3"
    }
  },
  "cells": [
    {
      "cell_type": "code",
      "source": [
        "! pip install -q pyspark"
      ],
      "metadata": {
        "id": "l5qestX_gPoB",
        "colab": {
          "base_uri": "https://localhost:8080/"
        },
        "outputId": "160a016c-f881-4656-d408-dbefe1f13e87"
      },
      "execution_count": 1,
      "outputs": [
        {
          "output_type": "stream",
          "name": "stdout",
          "text": [
            "\u001b[2K     \u001b[90m━━━━━━━━━━━━━━━━━━━━━━━━━━━━━━━━━━━━━━━━\u001b[0m \u001b[32m317.0/317.0 MB\u001b[0m \u001b[31m3.8 MB/s\u001b[0m eta \u001b[36m0:00:00\u001b[0m\n",
            "\u001b[?25h  Preparing metadata (setup.py) ... \u001b[?25l\u001b[?25hdone\n",
            "  Building wheel for pyspark (setup.py) ... \u001b[?25l\u001b[?25hdone\n"
          ]
        }
      ]
    },
    {
      "cell_type": "code",
      "source": [
        "import pyspark\n",
        "import pyspark.sql.functions as F\n",
        "import pyspark.sql.types as T\n",
        "from pyspark.sql import SparkSession\n",
        "from pyspark.sql.functions import udf\n",
        "from pyspark.sql.window import Window"
      ],
      "metadata": {
        "id": "eucZGRCGgclL"
      },
      "execution_count": 2,
      "outputs": []
    },
    {
      "cell_type": "markdown",
      "source": [
        "Инициализируем Spark сессию"
      ],
      "metadata": {
        "id": "SNwTjslElQuZ"
      }
    },
    {
      "cell_type": "markdown",
      "source": [
        "SparkSession:\n",
        "- входная точка в Spark\n",
        "- способ инициализации базовой функциональности PySpark\n",
        "- \"под капотом\" SparkSession создаем экземпляр класса SparkContext и SparkConfig"
      ],
      "metadata": {
        "id": "3_mFxoECSQPR"
      }
    },
    {
      "cell_type": "markdown",
      "source": [
        "Параметры:\n",
        "- master():\n",
        "  - при работе с кластером необходимо передать имя кластерного менеджера, например \"yarn\".\n",
        "  - при локальной работе необходимо указать \"local[*]\". Значение в скобках в идеале должно соответствовать кол-ву ядер процессора.\n",
        "\n",
        "- appName():\n",
        "  - используется для определения имени приложения."
      ],
      "metadata": {
        "id": "YU0yOfm3naKg"
      }
    },
    {
      "cell_type": "code",
      "metadata": {
        "id": "XwLemIk13_Lj"
      },
      "source": [
        "spark = SparkSession.builder\\\n",
        "                    .master(\"local[*]\")\\\n",
        "                    .appName(\"spark_worflow\")\\\n",
        "                    .getOrCreate()"
      ],
      "execution_count": 3,
      "outputs": []
    },
    {
      "cell_type": "code",
      "metadata": {
        "id": "qDSHTzrn4m6e",
        "colab": {
          "base_uri": "https://localhost:8080/",
          "height": 216
        },
        "outputId": "998e6987-ba6b-40ca-bd05-aa72a2e3975d"
      },
      "source": [
        "spark"
      ],
      "execution_count": 4,
      "outputs": [
        {
          "output_type": "execute_result",
          "data": {
            "text/plain": [
              "<pyspark.sql.session.SparkSession at 0x79d29ab26b90>"
            ],
            "text/html": [
              "\n",
              "            <div>\n",
              "                <p><b>SparkSession - in-memory</b></p>\n",
              "                \n",
              "        <div>\n",
              "            <p><b>SparkContext</b></p>\n",
              "\n",
              "            <p><a href=\"http://a86f0823160e:4040\">Spark UI</a></p>\n",
              "\n",
              "            <dl>\n",
              "              <dt>Version</dt>\n",
              "                <dd><code>v3.5.1</code></dd>\n",
              "              <dt>Master</dt>\n",
              "                <dd><code>local[*]</code></dd>\n",
              "              <dt>AppName</dt>\n",
              "                <dd><code>spark_worflow</code></dd>\n",
              "            </dl>\n",
              "        </div>\n",
              "        \n",
              "            </div>\n",
              "        "
            ]
          },
          "metadata": {},
          "execution_count": 4
        }
      ]
    },
    {
      "cell_type": "markdown",
      "source": [
        "**Чтение данных в Spark**"
      ],
      "metadata": {
        "id": "h3cV8oljodoj"
      }
    },
    {
      "cell_type": "code",
      "source": [
        "# Чтение CSV файла\n",
        "csv_file = 'data/test.csv'\n",
        "data_csv = spark.read.csv(csv_file)\n",
        "\n",
        "# Чтение JSON файла\n",
        "json_file = 'data/test.json'\n",
        "data_json = spark.read.json(json_file)\n",
        "\n",
        "# Чтение Parquet файла\n",
        "parquet_file = 'data/test.parquet'\n",
        "data_parquet = spark.read.parquet(parquet_file)\n",
        "\n",
        "# Чтение данных с HDFS\n",
        "from pyspark import SparkContext, SparkConf\n",
        "\n",
        "conf = SparkConf().setAppName(\"connect_to_hdfs\").setMaster(\"local\")\n",
        "sc = SparkContext(conf=conf)\n",
        "\n",
        "hdfs_file = sc.textFile(\"hdfs://namenodehost/inputFiles/test.txt\")\n",
        "hdfs_file.first()"
      ],
      "metadata": {
        "id": "_6IOXQx8oiMN"
      },
      "execution_count": null,
      "outputs": []
    },
    {
      "cell_type": "markdown",
      "source": [
        "Попробуем прочитать данные из csv"
      ],
      "metadata": {
        "id": "aaxqJjmzozTB"
      }
    },
    {
      "cell_type": "code",
      "source": [
        "csv_file = 'fraud.csv'\n",
        "data_fraud = spark.read.csv(csv_file\n",
        "                           ,header=True)"
      ],
      "metadata": {
        "id": "tvM6eQgUo6Pi"
      },
      "execution_count": 5,
      "outputs": []
    },
    {
      "cell_type": "code",
      "source": [
        "type(data_fraud)"
      ],
      "metadata": {
        "id": "w6E3UgyppXQ4",
        "colab": {
          "base_uri": "https://localhost:8080/",
          "height": 186
        },
        "outputId": "db553adb-1ce6-482d-a555-a4e7eb0b412f"
      },
      "execution_count": 6,
      "outputs": [
        {
          "output_type": "execute_result",
          "data": {
            "text/plain": [
              "pyspark.sql.dataframe.DataFrame"
            ],
            "text/html": [
              "<div style=\"max-width:800px; border: 1px solid var(--colab-border-color);\"><style>\n",
              "      pre.function-repr-contents {\n",
              "        overflow-x: auto;\n",
              "        padding: 8px 12px;\n",
              "        max-height: 500px;\n",
              "      }\n",
              "\n",
              "      pre.function-repr-contents.function-repr-contents-collapsed {\n",
              "        cursor: pointer;\n",
              "        max-height: 100px;\n",
              "      }\n",
              "    </style>\n",
              "    <pre style=\"white-space: initial; background:\n",
              "         var(--colab-secondary-surface-color); padding: 8px 12px;\n",
              "         border-bottom: 1px solid var(--colab-border-color);\"><b>pyspark.sql.dataframe.DataFrame</b><br/>def __init__(jdf: JavaObject, sql_ctx: Union[&#x27;SQLContext&#x27;, &#x27;SparkSession&#x27;])</pre><pre class=\"function-repr-contents function-repr-contents-collapsed\" style=\"\"><a class=\"filepath\" style=\"display:none\" href=\"#\">/usr/local/lib/python3.10/dist-packages/pyspark/sql/dataframe.py</a>A distributed collection of data grouped into named columns.\n",
              "\n",
              ".. versionadded:: 1.3.0\n",
              "\n",
              ".. versionchanged:: 3.4.0\n",
              "    Supports Spark Connect.\n",
              "\n",
              "Examples\n",
              "--------\n",
              "A :class:`DataFrame` is equivalent to a relational table in Spark SQL,\n",
              "and can be created using various functions in :class:`SparkSession`:\n",
              "\n",
              "&gt;&gt;&gt; people = spark.createDataFrame([\n",
              "...     {&quot;deptId&quot;: 1, &quot;age&quot;: 40, &quot;name&quot;: &quot;Hyukjin Kwon&quot;, &quot;gender&quot;: &quot;M&quot;, &quot;salary&quot;: 50},\n",
              "...     {&quot;deptId&quot;: 1, &quot;age&quot;: 50, &quot;name&quot;: &quot;Takuya Ueshin&quot;, &quot;gender&quot;: &quot;M&quot;, &quot;salary&quot;: 100},\n",
              "...     {&quot;deptId&quot;: 2, &quot;age&quot;: 60, &quot;name&quot;: &quot;Xinrong Meng&quot;, &quot;gender&quot;: &quot;F&quot;, &quot;salary&quot;: 150},\n",
              "...     {&quot;deptId&quot;: 3, &quot;age&quot;: 20, &quot;name&quot;: &quot;Haejoon Lee&quot;, &quot;gender&quot;: &quot;M&quot;, &quot;salary&quot;: 200}\n",
              "... ])\n",
              "\n",
              "Once created, it can be manipulated using the various domain-specific-language\n",
              "(DSL) functions defined in: :class:`DataFrame`, :class:`Column`.\n",
              "\n",
              "To select a column from the :class:`DataFrame`, use the apply method:\n",
              "\n",
              "&gt;&gt;&gt; age_col = people.age\n",
              "\n",
              "A more concrete example:\n",
              "\n",
              "&gt;&gt;&gt; # To create DataFrame using SparkSession\n",
              "... department = spark.createDataFrame([\n",
              "...     {&quot;id&quot;: 1, &quot;name&quot;: &quot;PySpark&quot;},\n",
              "...     {&quot;id&quot;: 2, &quot;name&quot;: &quot;ML&quot;},\n",
              "...     {&quot;id&quot;: 3, &quot;name&quot;: &quot;Spark SQL&quot;}\n",
              "... ])\n",
              "\n",
              "&gt;&gt;&gt; people.filter(people.age &gt; 30).join(\n",
              "...     department, people.deptId == department.id).groupBy(\n",
              "...     department.name, &quot;gender&quot;).agg({&quot;salary&quot;: &quot;avg&quot;, &quot;age&quot;: &quot;max&quot;}).show()\n",
              "+-------+------+-----------+--------+\n",
              "|   name|gender|avg(salary)|max(age)|\n",
              "+-------+------+-----------+--------+\n",
              "|     ML|     F|      150.0|      60|\n",
              "|PySpark|     M|       75.0|      50|\n",
              "+-------+------+-----------+--------+\n",
              "\n",
              "Notes\n",
              "-----\n",
              "A DataFrame should only be created as described above. It should not be directly\n",
              "created via using the constructor.</pre>\n",
              "      <script>\n",
              "      if (google.colab.kernel.accessAllowed && google.colab.files && google.colab.files.view) {\n",
              "        for (const element of document.querySelectorAll('.filepath')) {\n",
              "          element.style.display = 'block'\n",
              "          element.onclick = (event) => {\n",
              "            event.preventDefault();\n",
              "            event.stopPropagation();\n",
              "            google.colab.files.view(element.textContent, 80);\n",
              "          };\n",
              "        }\n",
              "      }\n",
              "      for (const element of document.querySelectorAll('.function-repr-contents')) {\n",
              "        element.onclick = (event) => {\n",
              "          event.preventDefault();\n",
              "          event.stopPropagation();\n",
              "          element.classList.toggle('function-repr-contents-collapsed');\n",
              "        };\n",
              "      }\n",
              "      </script>\n",
              "      </div>"
            ]
          },
          "metadata": {},
          "execution_count": 6
        }
      ]
    },
    {
      "cell_type": "code",
      "source": [
        "data_fraud.printSchema()"
      ],
      "metadata": {
        "id": "PYBx1L1PpXdG",
        "colab": {
          "base_uri": "https://localhost:8080/"
        },
        "outputId": "27c4dff1-237a-4635-8d04-95a99ad3cc56"
      },
      "execution_count": 7,
      "outputs": [
        {
          "output_type": "stream",
          "name": "stdout",
          "text": [
            "root\n",
            " |-- _c0: string (nullable = true)\n",
            " |-- Unnamed: 0: string (nullable = true)\n",
            " |-- trans_date_trans_time: string (nullable = true)\n",
            " |-- cc_num: string (nullable = true)\n",
            " |-- merchant: string (nullable = true)\n",
            " |-- category: string (nullable = true)\n",
            " |-- amt: string (nullable = true)\n",
            " |-- first: string (nullable = true)\n",
            " |-- last: string (nullable = true)\n",
            " |-- gender: string (nullable = true)\n",
            " |-- street: string (nullable = true)\n",
            " |-- city: string (nullable = true)\n",
            " |-- state: string (nullable = true)\n",
            " |-- zip: string (nullable = true)\n",
            " |-- lat: string (nullable = true)\n",
            " |-- long: string (nullable = true)\n",
            " |-- city_pop: string (nullable = true)\n",
            " |-- job: string (nullable = true)\n",
            " |-- dob: string (nullable = true)\n",
            " |-- trans_num: string (nullable = true)\n",
            " |-- unix_time: string (nullable = true)\n",
            " |-- merch_lat: string (nullable = true)\n",
            " |-- merch_long: string (nullable = true)\n",
            " |-- is_fraud: string (nullable = true)\n",
            "\n"
          ]
        }
      ]
    },
    {
      "cell_type": "code",
      "source": [
        "data_fraud.show(5)"
      ],
      "metadata": {
        "id": "khdQkhP-p6HD",
        "colab": {
          "base_uri": "https://localhost:8080/"
        },
        "outputId": "eeb32fb3-9909-4dfa-e5f0-425627be75d9"
      },
      "execution_count": 8,
      "outputs": [
        {
          "output_type": "stream",
          "name": "stdout",
          "text": [
            "+-------+----------+---------------------+----------------+--------------------+-------------+-----+--------+--------+------+--------------------+------------+-----+-----+-------+---------+--------+--------------------+----------+--------------------+----------+---------+-----------+--------+\n",
            "|    _c0|Unnamed: 0|trans_date_trans_time|          cc_num|            merchant|     category|  amt|   first|    last|gender|              street|        city|state|  zip|    lat|     long|city_pop|                 job|       dob|           trans_num| unix_time|merch_lat| merch_long|is_fraud|\n",
            "+-------+----------+---------------------+----------------+--------------------+-------------+-----+--------+--------+------+--------------------+------------+-----+-----+-------+---------+--------+--------------------+----------+--------------------+----------+---------+-----------+--------+\n",
            "| 811778|    811778|  2019-12-07 10:55:06|    676173792455|fraud_Zieme, Bode...|gas_transport|86.19|Brittany|     Cox|     F|07177 William Dal...|Santa Monica|   CA|90403|34.0287|-118.4924|   92043|Civil engineer, c...|1961-04-25|f32d1f4b2a918f4c2...|1354877706|33.287851| -118.74097|       0|\n",
            "|1101718|   1101718|  2020-04-03 13:10:06|  30518206766474|fraud_Lind-Buckridge|entertainment|85.81|  Tamara|Martinez|     F|471 Marquez Prair...|    Matthews|   MO|63867|36.7154| -89.6287|    1019|Aeronautical engi...|1979-01-26|f5dad8e2d7c39d815...|1364994606| 36.53995| -89.857416|       0|\n",
            "| 800013|    800013|  2019-12-04 07:07:04|4658490815480264|fraud_Hackett-Lue...|  grocery_pos| 99.3|    Tara|Richards|     F|4879 Cristina Sta...|Keisterville|   PA|15449|39.9636| -79.7853|     184|   Systems developer|1945-11-04|1d023bc78ab93ab65...|1354604824|39.582872|  -78.83855|       0|\n",
            "| 398945|    398945|  2019-06-30 18:43:08|4716561796955522|  fraud_Lynch-Wisozk|         home|42.09|  Lauren|Anderson|     F|11014 Chad Lake A...| Heart Butte|   MT|59448|48.2777|-112.8456|     743|      Water engineer|1972-05-04|dbf6c06d3277438af...|1341081788|48.310513|-112.837535|       0|\n",
            "| 207455|    207455|  2019-04-15 19:57:49|3528407217576457|fraud_Fisher-Scho...| shopping_net| 4.24|Patricia|   Leach|     F|71309 Martinez St...|   Kingsport|   TN|37663|36.4715| -82.4834|   87124|       Warden/ranger|1987-02-14|88814660aba0101b1...|1334519869|37.329094| -82.070746|       0|\n",
            "+-------+----------+---------------------+----------------+--------------------+-------------+-----+--------+--------+------+--------------------+------------+-----+-----+-------+---------+--------+--------------------+----------+--------------------+----------+---------+-----------+--------+\n",
            "only showing top 5 rows\n",
            "\n"
          ]
        }
      ]
    },
    {
      "cell_type": "markdown",
      "source": [
        "Spark не всегда умеет корректно определять типы данных\n",
        "  \n",
        "Чтобы задать другие типы данных можно заранее определить схему данных с помощью класса StructType, которые состоит из коллекции объектов StructField"
      ],
      "metadata": {
        "id": "8S9AMqf8sl07"
      }
    },
    {
      "cell_type": "code",
      "source": [
        "from pyspark.sql.types import *\n",
        "\n",
        "# IntegerType()\n",
        "# StringType()\n",
        "# LongType()\n",
        "# DateType()\n",
        "# TimestampType()\n",
        "# DoubleType()\n",
        "# BooleanType()\n",
        "\n",
        "data_schema = [\n",
        "StructField('_c0', IntegerType(), True),\n",
        "StructField('id', IntegerType(), True),\n",
        "StructField('trans_dt', DateType(), True),              #\n",
        "StructField('cc_num', IntegerType(), True),             #\n",
        "StructField('merchant', StringType(), True),\n",
        "StructField('category', StringType(), True),\n",
        "StructField('amt', DoubleType(), True),\n",
        "StructField('first', StringType(), True),\n",
        "StructField('last', StringType(), True),\n",
        "StructField('gender', StringType(), True),\n",
        "StructField('street', StringType(), True),\n",
        "StructField('city', StringType(), True),\n",
        "StructField('state', StringType(), True),\n",
        "StructField('zip', IntegerType(), True),\n",
        "StructField('lat', DoubleType(), True),\n",
        "StructField('long', DoubleType(), True),\n",
        "StructField('city_pop', IntegerType(), True),\n",
        "StructField('job', StringType(), True),\n",
        "StructField('dob', DateType(), True),\n",
        "StructField('trans_num', StringType(), True),\n",
        "StructField('unix_time', IntegerType(), True),\n",
        "StructField('merch_lat', DoubleType(), True),\n",
        "StructField('merch_long', DoubleType(), True),\n",
        "StructField('is_fraud', BooleanType(), True)            #\n",
        "]\n",
        "\n",
        "structure = StructType(fields = data_schema)"
      ],
      "metadata": {
        "id": "J6nNG6Q_tFPp"
      },
      "execution_count": 9,
      "outputs": []
    },
    {
      "cell_type": "markdown",
      "source": [
        "Снова прочитаем данные и передадим созданную схему в качестве параметра"
      ],
      "metadata": {
        "id": "CIPLoQqC-kVF"
      }
    },
    {
      "cell_type": "code",
      "source": [
        "csv_file = 'fraud.csv'\n",
        "data_fraud = spark.read.csv(csv_file\n",
        "                           ,header=True\n",
        "                           ,schema=structure)\n",
        "\n",
        "data_fraud.printSchema()"
      ],
      "metadata": {
        "colab": {
          "base_uri": "https://localhost:8080/"
        },
        "id": "dlNm_Os_-jxJ",
        "outputId": "a053b80f-66db-4ac8-e7c6-e754269047be"
      },
      "execution_count": 10,
      "outputs": [
        {
          "output_type": "stream",
          "name": "stdout",
          "text": [
            "root\n",
            " |-- _c0: integer (nullable = true)\n",
            " |-- id: integer (nullable = true)\n",
            " |-- trans_dt: date (nullable = true)\n",
            " |-- cc_num: integer (nullable = true)\n",
            " |-- merchant: string (nullable = true)\n",
            " |-- category: string (nullable = true)\n",
            " |-- amt: double (nullable = true)\n",
            " |-- first: string (nullable = true)\n",
            " |-- last: string (nullable = true)\n",
            " |-- gender: string (nullable = true)\n",
            " |-- street: string (nullable = true)\n",
            " |-- city: string (nullable = true)\n",
            " |-- state: string (nullable = true)\n",
            " |-- zip: integer (nullable = true)\n",
            " |-- lat: double (nullable = true)\n",
            " |-- long: double (nullable = true)\n",
            " |-- city_pop: integer (nullable = true)\n",
            " |-- job: string (nullable = true)\n",
            " |-- dob: date (nullable = true)\n",
            " |-- trans_num: string (nullable = true)\n",
            " |-- unix_time: integer (nullable = true)\n",
            " |-- merch_lat: double (nullable = true)\n",
            " |-- merch_long: double (nullable = true)\n",
            " |-- is_fraud: boolean (nullable = true)\n",
            "\n"
          ]
        }
      ]
    },
    {
      "cell_type": "code",
      "source": [
        "data_fraud.show(5)"
      ],
      "metadata": {
        "id": "Gz2WIkz8tQfr",
        "colab": {
          "base_uri": "https://localhost:8080/"
        },
        "outputId": "79682820-3b8c-4dc4-d044-1409c7de37fc"
      },
      "execution_count": 11,
      "outputs": [
        {
          "output_type": "stream",
          "name": "stdout",
          "text": [
            "+-------+-------+----------+------+--------------------+-------------+-----+--------+--------+------+--------------------+------------+-----+-----+-------+---------+--------+--------------------+----------+--------------------+----------+---------+-----------+--------+\n",
            "|    _c0|     id|  trans_dt|cc_num|            merchant|     category|  amt|   first|    last|gender|              street|        city|state|  zip|    lat|     long|city_pop|                 job|       dob|           trans_num| unix_time|merch_lat| merch_long|is_fraud|\n",
            "+-------+-------+----------+------+--------------------+-------------+-----+--------+--------+------+--------------------+------------+-----+-----+-------+---------+--------+--------------------+----------+--------------------+----------+---------+-----------+--------+\n",
            "| 811778| 811778|2019-12-07|  NULL|fraud_Zieme, Bode...|gas_transport|86.19|Brittany|     Cox|     F|07177 William Dal...|Santa Monica|   CA|90403|34.0287|-118.4924|   92043|Civil engineer, c...|1961-04-25|f32d1f4b2a918f4c2...|1354877706|33.287851| -118.74097|    NULL|\n",
            "|1101718|1101718|2020-04-03|  NULL|fraud_Lind-Buckridge|entertainment|85.81|  Tamara|Martinez|     F|471 Marquez Prair...|    Matthews|   MO|63867|36.7154| -89.6287|    1019|Aeronautical engi...|1979-01-26|f5dad8e2d7c39d815...|1364994606| 36.53995| -89.857416|    NULL|\n",
            "| 800013| 800013|2019-12-04|  NULL|fraud_Hackett-Lue...|  grocery_pos| 99.3|    Tara|Richards|     F|4879 Cristina Sta...|Keisterville|   PA|15449|39.9636| -79.7853|     184|   Systems developer|1945-11-04|1d023bc78ab93ab65...|1354604824|39.582872|  -78.83855|    NULL|\n",
            "| 398945| 398945|2019-06-30|  NULL|  fraud_Lynch-Wisozk|         home|42.09|  Lauren|Anderson|     F|11014 Chad Lake A...| Heart Butte|   MT|59448|48.2777|-112.8456|     743|      Water engineer|1972-05-04|dbf6c06d3277438af...|1341081788|48.310513|-112.837535|    NULL|\n",
            "| 207455| 207455|2019-04-15|  NULL|fraud_Fisher-Scho...| shopping_net| 4.24|Patricia|   Leach|     F|71309 Martinez St...|   Kingsport|   TN|37663|36.4715| -82.4834|   87124|       Warden/ranger|1987-02-14|88814660aba0101b1...|1334519869|37.329094| -82.070746|    NULL|\n",
            "+-------+-------+----------+------+--------------------+-------------+-----+--------+--------+------+--------------------+------------+-----+-----+-------+---------+--------+--------------------+----------+--------------------+----------+---------+-----------+--------+\n",
            "only showing top 5 rows\n",
            "\n"
          ]
        }
      ]
    },
    {
      "cell_type": "markdown",
      "source": [
        "Можно заметить, что не все значения определились корректно."
      ],
      "metadata": {
        "id": "RtLEOBDp-5iW"
      }
    },
    {
      "cell_type": "markdown",
      "source": [
        "Заменим типы данных для этих полей."
      ],
      "metadata": {
        "id": "IKPOJSYl_e9q"
      }
    },
    {
      "cell_type": "code",
      "source": [
        "data_fraud.dtypes"
      ],
      "metadata": {
        "id": "Y5Avqj2ktQhh",
        "colab": {
          "base_uri": "https://localhost:8080/"
        },
        "outputId": "cb6a041b-eacb-4d7e-ba01-75bc037eb39b"
      },
      "execution_count": null,
      "outputs": [
        {
          "output_type": "execute_result",
          "data": {
            "text/plain": [
              "[('_c0', 'int'),\n",
              " ('id', 'int'),\n",
              " ('trans_dt', 'date'),\n",
              " ('cc_num', 'int'),\n",
              " ('merchant', 'string'),\n",
              " ('category', 'string'),\n",
              " ('amt', 'double'),\n",
              " ('first', 'string'),\n",
              " ('last', 'string'),\n",
              " ('gender', 'string'),\n",
              " ('street', 'string'),\n",
              " ('city', 'string'),\n",
              " ('state', 'string'),\n",
              " ('zip', 'int'),\n",
              " ('lat', 'double'),\n",
              " ('long', 'double'),\n",
              " ('city_pop', 'int'),\n",
              " ('job', 'string'),\n",
              " ('dob', 'date'),\n",
              " ('trans_num', 'string'),\n",
              " ('unix_time', 'int'),\n",
              " ('merch_lat', 'double'),\n",
              " ('merch_long', 'double'),\n",
              " ('is_fraud', 'boolean')]"
            ]
          },
          "metadata": {},
          "execution_count": 11
        }
      ]
    },
    {
      "cell_type": "markdown",
      "source": [
        "Как можно смотреть данные датафрейма:"
      ],
      "metadata": {
        "id": "rfYHJYp9A24Z"
      }
    },
    {
      "cell_type": "code",
      "source": [
        "data_fraud.show()  # по умолчанию покажет первые 20 строк"
      ],
      "metadata": {
        "id": "UPLK9xWLw1EI",
        "colab": {
          "base_uri": "https://localhost:8080/"
        },
        "outputId": "bf624ef4-4ba7-4000-fcf4-9984f89e5d59"
      },
      "execution_count": null,
      "outputs": [
        {
          "output_type": "stream",
          "name": "stdout",
          "text": [
            "+-------+-------+----------+------+--------------------+-------------+-----+--------+-----------+------+--------------------+----------------+-----+-----+-------+---------+--------+--------------------+----------+--------------------+----------+------------------+-------------------+--------+\n",
            "|    _c0|     id|  trans_dt|cc_num|            merchant|     category|  amt|   first|       last|gender|              street|            city|state|  zip|    lat|     long|city_pop|                 job|       dob|           trans_num| unix_time|         merch_lat|         merch_long|is_fraud|\n",
            "+-------+-------+----------+------+--------------------+-------------+-----+--------+-----------+------+--------------------+----------------+-----+-----+-------+---------+--------+--------------------+----------+--------------------+----------+------------------+-------------------+--------+\n",
            "| 811778| 811778|2019-12-07|  NULL|fraud_Zieme, Bode...|gas_transport|86.19|Brittany|        Cox|     F|07177 William Dal...|    Santa Monica|   CA|90403|34.0287|-118.4924|   92043|Civil engineer, c...|1961-04-25|f32d1f4b2a918f4c2...|1354877706|         33.287851|         -118.74097|    NULL|\n",
            "|1101718|1101718|2020-04-03|  NULL|fraud_Lind-Buckridge|entertainment|85.81|  Tamara|   Martinez|     F|471 Marquez Prair...|        Matthews|   MO|63867|36.7154| -89.6287|    1019|Aeronautical engi...|1979-01-26|f5dad8e2d7c39d815...|1364994606|          36.53995|         -89.857416|    NULL|\n",
            "| 800013| 800013|2019-12-04|  NULL|fraud_Hackett-Lue...|  grocery_pos| 99.3|    Tara|   Richards|     F|4879 Cristina Sta...|    Keisterville|   PA|15449|39.9636| -79.7853|     184|   Systems developer|1945-11-04|1d023bc78ab93ab65...|1354604824|         39.582872|          -78.83855|    NULL|\n",
            "| 398945| 398945|2019-06-30|  NULL|  fraud_Lynch-Wisozk|         home|42.09|  Lauren|   Anderson|     F|11014 Chad Lake A...|     Heart Butte|   MT|59448|48.2777|-112.8456|     743|      Water engineer|1972-05-04|dbf6c06d3277438af...|1341081788|         48.310513|        -112.837535|    NULL|\n",
            "| 207455| 207455|2019-04-15|  NULL|fraud_Fisher-Scho...| shopping_net| 4.24|Patricia|      Leach|     F|71309 Martinez St...|       Kingsport|   TN|37663|36.4715| -82.4834|   87124|       Warden/ranger|1987-02-14|88814660aba0101b1...|1334519869|         37.329094|         -82.070746|    NULL|\n",
            "| 564452| 564452|2019-08-28|  NULL|fraud_Christianse...|gas_transport|72.75|  Jeremy|   Roberson|     M|  25887 Martin Inlet|    Graniteville|   VT| 5654|44.1554| -72.4847|     970|Agricultural cons...|1993-09-29|484eff81bd47131f1...|1346152726|         43.168748|         -72.740002|    NULL|\n",
            "| 347018| 347018|2019-06-12|  NULL|fraud_Watsica, Ha...| shopping_pos| 7.87|   Kelly|  Zimmerman|     F|   1893 Katie Tunnel|     Westerville|   NE|68881|41.4193| -99.3844|      73|    Product designer|1935-02-10|671655ebb10aa252a...|1339481100|         41.528425|         -99.368091|    NULL|\n",
            "| 245997| 245997|2019-05-03|  NULL|fraud_Metz, Russe...|    kids_pets| 5.53|  Taylor|       Khan|     F|658 Diane Glen Ap...|North Washington|   PA|16048|41.0472| -79.8089|     139|     Patent attorney|1954-05-25|997e7001922aefa06...|1336063764|         40.146899|         -79.386339|    NULL|\n",
            "| 213552| 213552|2019-04-19|  NULL|   fraud_Schmitt Inc|gas_transport|89.91| Gregory|     Graham|     M|     4005 Dana Glens|         Methuen|   MA| 1844| 42.728|  -71.181|   47249|   Market researcher|1980-11-22|fa46dc8800a0c7bce...|1334825058|         42.404258| -71.19688000000001|    NULL|\n",
            "| 156002| 156002|2019-03-24|  NULL|fraud_Hettinger, ...|         home|38.72|   Sarah|     Foster|     F|77872 Andrea Glen...|            Ford|   VA|23850|37.1349| -77.7364|    1051|Chief Operating O...|1976-11-21|b3b79a57a261a3829...|1332599599|          36.26155|         -78.176857|    NULL|\n",
            "| 132116| 132116|2019-03-13|  NULL|fraud_Cummerata-H...|entertainment|24.82|   Kylie|      Kirby|     F|79816 Jackson Squ...|           Shedd|   OR|97377| 44.453|-123.1065|     917|Radio broadcast a...|1995-07-08|10ffbae98c0f7358f...|1331682985|         44.051771|        -123.153621|    NULL|\n",
            "| 245471| 245471|2019-05-03|  NULL|fraud_Hermann and...| shopping_pos| 2.64|   Julie|    Johnson|     F|9331 Robert Passa...|          Hudson|   KS|67545|38.1485| -98.6408|     215|   Probation officer|1968-11-22|03a260ef2d73599c7...|1336040690|         38.699669|         -98.605815|    NULL|\n",
            "| 371279| 371279|2019-06-21|  NULL|fraud_Bahringer-S...|  food_dining|43.09|  Teresa|Blankenship|     F|6638 Lucero Mill ...|         Karnack|   TX|75661|32.6205|    -94.2|    2807|         Chiropodist|1931-01-26|ac1b74685e9b87581...|1340257686|         32.289998|          -93.84484|    NULL|\n",
            "| 574032| 574032|2019-09-01|  NULL|fraud_Zboncak, Ro...| shopping_net| 99.9|  Tanner|    Carroll|     M|     494 Burke Ports|        Cokeburg|   PA|15324|40.1008| -80.0652|     632|              Dealer|1989-04-08|6446fa9fe9b426ec0...|1346459494|         39.468111|         -80.462964|    NULL|\n",
            "|1238238|1238238|2020-05-31|  NULL|   fraud_Kovacek Ltd|       travel| 1.18|   Karen|     Warren|     F|4900 Curtis Garde...|          Hahira|   GA|31632|30.9416| -83.3574|   10295|Teacher, special ...|1997-12-26|487132ca15bcf349e...|1370028874|31.403540000000003|         -82.737288|    NULL|\n",
            "|1046452|1046452|2020-03-09|  NULL| fraud_Dibbert-Green|entertainment|47.64| Marissa|      Clark|     F|2677 Byrd Village...|        San Jose|   CA|95148|37.3304|-121.7913|  973849|        Geoscientist|1997-01-18|831f310a491af1e55...|1362867921|         38.170002|-121.50991299999998|    NULL|\n",
            "|1199703|1199703|2020-05-16|  NULL|   fraud_Bins-Howell|personal_care| 5.39| Breanna|  Rodriguez|     F|118 Cabrera Sprin...|  Lanark Village|   FL|32323|29.8826| -84.5964|     217|Television produc...|1990-01-24|c33f937520c6ccffc...|1368740087|         29.187751|         -85.202066|    NULL|\n",
            "|1237624|1237624|2020-05-31|  NULL|fraud_Bradtke, To...|personal_care|23.78|  Angela|     Taylor|     F|6343 Ramirez Skyw...|        Lakeport|   CA|95453| 39.047|-122.9328|   11256|          Podiatrist|1972-10-18|9967b09f2e5795404...|1370016397|         39.898946|         -122.01176|    NULL|\n",
            "|1055426|1055426|2020-03-14|  NULL|fraud_Prohaska-Mu...|gas_transport|73.62|   Wayne|      Payne|     M|587 Bradley Inlet...|  Cuyahoga Falls|   OH|44223|41.1464| -81.5107|   47772|     Equities trader|1966-01-04|201b99bc257471d25...|1363250321|         40.533255|         -81.495937|    NULL|\n",
            "| 574658| 574658|2019-09-01|  NULL| fraud_Dickinson Ltd|     misc_pos| 3.34| Krystal|     Gamble|     F|  47152 Clayton Burg|      Manchester|   MD|21102|39.6747| -76.8941|   11751|Clinical research...|1964-02-15|41b6f59aa546c2be3...|1346476232|           39.5448|         -77.673233|    NULL|\n",
            "+-------+-------+----------+------+--------------------+-------------+-----+--------+-----------+------+--------------------+----------------+-----+-----+-------+---------+--------+--------------------+----------+--------------------+----------+------------------+-------------------+--------+\n",
            "only showing top 20 rows\n",
            "\n"
          ]
        }
      ]
    },
    {
      "cell_type": "code",
      "source": [
        "data_fraud.first()  # возвращает первую строку"
      ],
      "metadata": {
        "id": "2ovi_67UxHSS",
        "colab": {
          "base_uri": "https://localhost:8080/"
        },
        "outputId": "e456319b-436a-4389-fb50-fd559dbed2df"
      },
      "execution_count": null,
      "outputs": [
        {
          "output_type": "execute_result",
          "data": {
            "text/plain": [
              "Row(_c0=811778, id=811778, trans_dt=datetime.date(2019, 12, 7), cc_num=None, merchant='fraud_Zieme, Bode and Dooley', category='gas_transport', amt=86.19, first='Brittany', last='Cox', gender='F', street='07177 William Dale Apt. 547', city='Santa Monica', state='CA', zip=90403, lat=34.0287, long=-118.4924, city_pop=92043, job='Civil engineer, contracting', dob=datetime.date(1961, 4, 25), trans_num='f32d1f4b2a918f4c2f6acdc83033ee35', unix_time=1354877706, merch_lat=33.287851, merch_long=-118.74097, is_fraud=None)"
            ]
          },
          "metadata": {},
          "execution_count": 13
        }
      ]
    },
    {
      "cell_type": "code",
      "source": [
        "data_fraud.head(3)  # возвращает первые N строк в виде списка"
      ],
      "metadata": {
        "id": "NKSxTq_0wrmy",
        "colab": {
          "base_uri": "https://localhost:8080/"
        },
        "outputId": "e6aff855-6a8f-4c86-e295-d967d4d8bf6f"
      },
      "execution_count": null,
      "outputs": [
        {
          "output_type": "execute_result",
          "data": {
            "text/plain": [
              "[Row(_c0=811778, id=811778, trans_dt=datetime.date(2019, 12, 7), cc_num=None, merchant='fraud_Zieme, Bode and Dooley', category='gas_transport', amt=86.19, first='Brittany', last='Cox', gender='F', street='07177 William Dale Apt. 547', city='Santa Monica', state='CA', zip=90403, lat=34.0287, long=-118.4924, city_pop=92043, job='Civil engineer, contracting', dob=datetime.date(1961, 4, 25), trans_num='f32d1f4b2a918f4c2f6acdc83033ee35', unix_time=1354877706, merch_lat=33.287851, merch_long=-118.74097, is_fraud=None),\n",
              " Row(_c0=1101718, id=1101718, trans_dt=datetime.date(2020, 4, 3), cc_num=None, merchant='fraud_Lind-Buckridge', category='entertainment', amt=85.81, first='Tamara', last='Martinez', gender='F', street='471 Marquez Prairie Suite 680', city='Matthews', state='MO', zip=63867, lat=36.7154, long=-89.6287, city_pop=1019, job='Aeronautical engineer', dob=datetime.date(1979, 1, 26), trans_num='f5dad8e2d7c39d81502d846a20286659', unix_time=1364994606, merch_lat=36.53995, merch_long=-89.857416, is_fraud=None),\n",
              " Row(_c0=800013, id=800013, trans_dt=datetime.date(2019, 12, 4), cc_num=None, merchant='fraud_Hackett-Lueilwitz', category='grocery_pos', amt=99.3, first='Tara', last='Richards', gender='F', street='4879 Cristina Station', city='Keisterville', state='PA', zip=15449, lat=39.9636, long=-79.7853, city_pop=184, job='Systems developer', dob=datetime.date(1945, 11, 4), trans_num='1d023bc78ab93ab65a35bbb53bcc67bd', unix_time=1354604824, merch_lat=39.582872, merch_long=-78.83855, is_fraud=None)]"
            ]
          },
          "metadata": {},
          "execution_count": 14
        }
      ]
    },
    {
      "cell_type": "code",
      "source": [
        "data_fraud.columns"
      ],
      "metadata": {
        "id": "YJufqWhhxeCQ",
        "colab": {
          "base_uri": "https://localhost:8080/"
        },
        "outputId": "e6ab432a-2fad-42e3-ca3d-54016b8d1f31"
      },
      "execution_count": null,
      "outputs": [
        {
          "output_type": "execute_result",
          "data": {
            "text/plain": [
              "['_c0',\n",
              " 'id',\n",
              " 'trans_dt',\n",
              " 'cc_num',\n",
              " 'merchant',\n",
              " 'category',\n",
              " 'amt',\n",
              " 'first',\n",
              " 'last',\n",
              " 'gender',\n",
              " 'street',\n",
              " 'city',\n",
              " 'state',\n",
              " 'zip',\n",
              " 'lat',\n",
              " 'long',\n",
              " 'city_pop',\n",
              " 'job',\n",
              " 'dob',\n",
              " 'trans_num',\n",
              " 'unix_time',\n",
              " 'merch_lat',\n",
              " 'merch_long',\n",
              " 'is_fraud']"
            ]
          },
          "metadata": {},
          "execution_count": 15
        }
      ]
    },
    {
      "cell_type": "code",
      "source": [
        "data_fraud.count()"
      ],
      "metadata": {
        "id": "Jx3fg_ewxlhu"
      },
      "execution_count": null,
      "outputs": []
    },
    {
      "cell_type": "markdown",
      "source": [
        "Пример \"ленивой\" операции (трансформации)"
      ],
      "metadata": {
        "id": "93Obz4aLB9nY"
      }
    },
    {
      "cell_type": "code",
      "source": [
        "data_fraud.distinct()"
      ],
      "metadata": {
        "id": "HM0ZIKH-xog3"
      },
      "execution_count": null,
      "outputs": []
    },
    {
      "cell_type": "markdown",
      "source": [
        "Пример \"ленивой\" операции (трансформации) с последующим действием"
      ],
      "metadata": {
        "id": "SWapyMPDCI24"
      }
    },
    {
      "cell_type": "code",
      "source": [
        "data_fraud.distinct().show()"
      ],
      "metadata": {
        "id": "VUdmjgesCMpm"
      },
      "execution_count": null,
      "outputs": []
    },
    {
      "cell_type": "code",
      "source": [
        "data_fraud.describe()"
      ],
      "metadata": {
        "id": "t35TjyRcxHVO"
      },
      "execution_count": null,
      "outputs": []
    },
    {
      "cell_type": "markdown",
      "source": [
        "Добавление новой колонки"
      ],
      "metadata": {
        "id": "u8ZFSgPZy_hm"
      }
    },
    {
      "cell_type": "code",
      "source": [
        "data_fraud = data_fraud.withColumn('new_column', data_fraud.id)"
      ],
      "metadata": {
        "id": "LE7p9URQyQX4"
      },
      "execution_count": null,
      "outputs": []
    },
    {
      "cell_type": "code",
      "source": [
        "data_fraud.printSchema()"
      ],
      "metadata": {
        "id": "xOZdXk7izlPa"
      },
      "execution_count": null,
      "outputs": []
    },
    {
      "cell_type": "markdown",
      "source": [
        "Переименование колонки"
      ],
      "metadata": {
        "id": "XQUznROIzCCw"
      }
    },
    {
      "cell_type": "code",
      "source": [
        "data_fraud.withColumnRenamed('new_column', 'new_column_2')"
      ],
      "metadata": {
        "id": "deYVLh_Iy45l"
      },
      "execution_count": null,
      "outputs": []
    },
    {
      "cell_type": "markdown",
      "source": [
        "Удаление колонки"
      ],
      "metadata": {
        "id": "Slr9m7jdz2hp"
      }
    },
    {
      "cell_type": "code",
      "source": [
        "data_fraud.drop('new_column')"
      ],
      "metadata": {
        "id": "7-VDa323zBcP"
      },
      "execution_count": null,
      "outputs": []
    },
    {
      "cell_type": "markdown",
      "source": [
        "Выборка данных"
      ],
      "metadata": {
        "id": "wLEa1J8KSy6b"
      }
    },
    {
      "cell_type": "code",
      "source": [
        "data_fraud.select(['id', 'is_fraud'])"
      ],
      "metadata": {
        "colab": {
          "base_uri": "https://localhost:8080/"
        },
        "id": "0oF3AkCaDRTo",
        "outputId": "40be6189-70b0-43c0-e4c9-f6eb6360678e"
      },
      "execution_count": 12,
      "outputs": [
        {
          "output_type": "execute_result",
          "data": {
            "text/plain": [
              "DataFrame[id: int, is_fraud: boolean]"
            ]
          },
          "metadata": {},
          "execution_count": 12
        }
      ]
    },
    {
      "cell_type": "code",
      "source": [
        "data_fraud.select(['id', 'is_fraud']).show(5)"
      ],
      "metadata": {
        "id": "Pwcq3yfNS2QR",
        "colab": {
          "base_uri": "https://localhost:8080/"
        },
        "outputId": "84071896-144f-4049-9751-68fae056843f"
      },
      "execution_count": 13,
      "outputs": [
        {
          "output_type": "stream",
          "name": "stdout",
          "text": [
            "+-------+--------+\n",
            "|     id|is_fraud|\n",
            "+-------+--------+\n",
            "| 811778|    NULL|\n",
            "|1101718|    NULL|\n",
            "| 800013|    NULL|\n",
            "| 398945|    NULL|\n",
            "| 207455|    NULL|\n",
            "+-------+--------+\n",
            "only showing top 5 rows\n",
            "\n"
          ]
        }
      ]
    },
    {
      "cell_type": "code",
      "source": [
        "data_fraud.show(3)"
      ],
      "metadata": {
        "id": "YCDa30d5TrRu"
      },
      "execution_count": null,
      "outputs": []
    },
    {
      "cell_type": "code",
      "source": [
        "data_fraud.filter(data_fraud.id < 10).show(3)"
      ],
      "metadata": {
        "id": "T4r_DhA6S-YD"
      },
      "execution_count": null,
      "outputs": []
    },
    {
      "cell_type": "markdown",
      "source": [
        "Посчитаем кол-во фродовых операций в датасете"
      ],
      "metadata": {
        "id": "rUiQb1-qTziZ"
      }
    },
    {
      "cell_type": "code",
      "source": [
        "# code here"
      ],
      "metadata": {
        "id": "VaDJ_dGOTTb8"
      },
      "execution_count": null,
      "outputs": []
    },
    {
      "cell_type": "markdown",
      "source": [
        "Фильтр по значению подстроки"
      ],
      "metadata": {
        "id": "U_Cd6QTGD8Fn"
      }
    },
    {
      "cell_type": "code",
      "source": [
        "data_fraud.filter(data_fraud.merchant.rlike('Prohaska')).show()"
      ],
      "metadata": {
        "id": "juWW4lyNTx-J"
      },
      "execution_count": null,
      "outputs": []
    },
    {
      "cell_type": "markdown",
      "source": [
        "Посчитаем сумму транзакций каждого продавца"
      ],
      "metadata": {
        "id": "rSOsrTABWD_o"
      }
    },
    {
      "cell_type": "code",
      "source": [
        "# code here"
      ],
      "metadata": {
        "id": "DYvVbvdgVi2S"
      },
      "execution_count": null,
      "outputs": []
    },
    {
      "cell_type": "markdown",
      "source": [
        "Для более красивого вывода можно применить метод toPandas"
      ],
      "metadata": {
        "id": "c_KDF5IjEvWH"
      }
    },
    {
      "cell_type": "code",
      "source": [
        "# code here"
      ],
      "metadata": {
        "id": "DYG-8it9Ezse"
      },
      "execution_count": null,
      "outputs": []
    },
    {
      "cell_type": "markdown",
      "source": [
        "Посчитаем различные агрегационные значения одновременно"
      ],
      "metadata": {
        "id": "bWXwYJAoE8c5"
      }
    },
    {
      "cell_type": "markdown",
      "source": [
        "Метод .alias задает псевдоним для колонки. Наподобие AS в SQL."
      ],
      "metadata": {
        "id": "w-1GBE-FFMfM"
      }
    },
    {
      "cell_type": "code",
      "source": [
        "from pyspark.sql import functions as f\n",
        "\n",
        "data_fraud \\\n",
        "    .groupBy(\"merchant\") \\\n",
        "    .agg(f.min(\"trans_dt\").alias(\"С\"),\n",
        "         f.max(\"trans_dt\").alias(\"По\"),\n",
        "\n",
        "         f.min(\"amt\").alias(\"Минимальная сумма\"),\n",
        "         f.max(\"amt\").alias(\"Максимальная сумма\"),\n",
        "         f.avg(\"amt\").alias(\"Средняя сумма\"),\n",
        "\n",
        "      ).show()"
      ],
      "metadata": {
        "id": "x4ryS124UCla"
      },
      "execution_count": null,
      "outputs": []
    },
    {
      "cell_type": "markdown",
      "source": [
        "Сохраним результат группировки в переменную"
      ],
      "metadata": {
        "id": "OSt7tEWwFdDY"
      }
    },
    {
      "cell_type": "code",
      "source": [
        "grouped_fraud_data = data_fraud \\\n",
        "    .groupBy(\"merchant\") \\\n",
        "    .agg(f.min(\"trans_dt\").alias(\"С\"),\n",
        "         f.max(\"trans_dt\").alias(\"По\"),\n",
        "\n",
        "         f.min(\"amt\").alias(\"Минимальная сумма\"),\n",
        "         f.max(\"amt\").alias(\"Максимальная сумма\"),\n",
        "         f.avg(\"amt\").alias(\"Средняя сумма\"),\n",
        "\n",
        "      )"
      ],
      "metadata": {
        "id": "SI2H-RiYUCoH"
      },
      "execution_count": null,
      "outputs": []
    },
    {
      "cell_type": "code",
      "source": [
        "grouped_fraud_data.toPandas()"
      ],
      "metadata": {
        "id": "vCwSpAeCY0cq"
      },
      "execution_count": null,
      "outputs": []
    },
    {
      "cell_type": "code",
      "source": [
        "type(grouped_fraud_data)"
      ],
      "metadata": {
        "id": "3nu_MhvHUCqb"
      },
      "execution_count": null,
      "outputs": []
    },
    {
      "cell_type": "code",
      "source": [
        "type(grouped_fraud_data.toPandas())"
      ],
      "metadata": {
        "id": "F1yq27x4YjJ7"
      },
      "execution_count": null,
      "outputs": []
    },
    {
      "cell_type": "markdown",
      "source": [
        "**Сохранение данных в файл**"
      ],
      "metadata": {
        "id": "yiBxx4E7YuZ8"
      }
    },
    {
      "cell_type": "code",
      "source": [
        "# CSV\n",
        "grouped_fraud_data.write.mode(\"overwrite\").csv('data_fraud.csv')\n",
        "\n",
        "# JSON\n",
        "grouped_fraud_data.write.mode(\"overwrite\").save('data_fraud.json', format='json')\n",
        "\n",
        "# Parquet\n",
        "grouped_fraud_data.write.mode(\"overwrite\").save('data_fraud.parquet', format='parquet')"
      ],
      "metadata": {
        "id": "7r32A6PnYx-F"
      },
      "execution_count": null,
      "outputs": []
    },
    {
      "cell_type": "markdown",
      "metadata": {
        "id": "HJJdAk_wn_IF"
      },
      "source": [
        "# RDD"
      ]
    },
    {
      "cell_type": "markdown",
      "source": [
        "- В качестве объекта распределения фреймворк Spark использует данные наборов RDD, поэтому для осуществления распределения необходимо преобразовывать исходные данные в набор RDD."
      ],
      "metadata": {
        "id": "CeznhsV34wLO"
      }
    },
    {
      "cell_type": "markdown",
      "source": [
        "Создадим список Python и преобразуем его в формат RDD c помощью соответствующей функции."
      ],
      "metadata": {
        "id": "Ip9JvnhXbco1"
      }
    },
    {
      "cell_type": "markdown",
      "source": [
        "![image.png](\n",
        "  \n",
        ")![image.png](data:image/png;base64,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)"
      ],
      "metadata": {
        "id": "nvHKivKWcstC"
      }
    },
    {
      "cell_type": "code",
      "source": [
        "python_list = [1,2,3,4,5,6,7,8,9,10]"
      ],
      "metadata": {
        "id": "fDvbuFShdbGj"
      },
      "execution_count": 14,
      "outputs": []
    },
    {
      "cell_type": "markdown",
      "source": [
        "Разделим наш список на несколько частей."
      ],
      "metadata": {
        "id": "QQ4mKJ-kHWzz"
      }
    },
    {
      "cell_type": "code",
      "source": [
        "rdd_example = spark.sparkContext.parallelize(python_list)"
      ],
      "metadata": {
        "id": "5HH8newccKxr"
      },
      "execution_count": 15,
      "outputs": []
    },
    {
      "cell_type": "markdown",
      "source": [
        "Посмотрим сколько частей создалось."
      ],
      "metadata": {
        "id": "iFzmCCfXHbqm"
      }
    },
    {
      "cell_type": "code",
      "source": [
        "rdd_example.getNumPartitions()"
      ],
      "metadata": {
        "id": "FN6FMg1hls84",
        "colab": {
          "base_uri": "https://localhost:8080/"
        },
        "outputId": "9b4b33f8-9b32-478f-ff58-c1fa07b1e613"
      },
      "execution_count": 16,
      "outputs": [
        {
          "output_type": "execute_result",
          "data": {
            "text/plain": [
              "2"
            ]
          },
          "metadata": {},
          "execution_count": 16
        }
      ]
    },
    {
      "cell_type": "markdown",
      "source": [
        "Зададим кол-во частей вручную."
      ],
      "metadata": {
        "id": "q_eQFeveHlsK"
      }
    },
    {
      "cell_type": "code",
      "source": [
        "rdd_example_5 = spark.sparkContext.parallelize(python_list, 5)"
      ],
      "metadata": {
        "id": "EFJAiMENeMbV"
      },
      "execution_count": 17,
      "outputs": []
    },
    {
      "cell_type": "code",
      "source": [
        "rdd_example_5.getNumPartitions()"
      ],
      "metadata": {
        "id": "VsIUkObHltAf",
        "colab": {
          "base_uri": "https://localhost:8080/"
        },
        "outputId": "e3f04e4d-1edb-4bf1-93ee-b47e5ebe07e8"
      },
      "execution_count": 18,
      "outputs": [
        {
          "output_type": "execute_result",
          "data": {
            "text/plain": [
              "5"
            ]
          },
          "metadata": {},
          "execution_count": 18
        }
      ]
    },
    {
      "cell_type": "markdown",
      "source": [
        "Можем переразбить файл на другое кол-во частей."
      ],
      "metadata": {
        "id": "ZYmVEhv_HyWT"
      }
    },
    {
      "cell_type": "code",
      "source": [
        "rdd_example_10 = rdd_example_5.repartition(10)"
      ],
      "metadata": {
        "id": "Tdf3HlJDltC7"
      },
      "execution_count": 21,
      "outputs": []
    },
    {
      "cell_type": "code",
      "source": [
        "rdd_example_10.getNumPartitions()"
      ],
      "metadata": {
        "id": "LwgA_Mv6l0_s",
        "colab": {
          "base_uri": "https://localhost:8080/"
        },
        "outputId": "1088d2d2-86b1-4149-cee2-b9a2ca241e35"
      },
      "execution_count": 22,
      "outputs": [
        {
          "output_type": "execute_result",
          "data": {
            "text/plain": [
              "10"
            ]
          },
          "metadata": {},
          "execution_count": 22
        }
      ]
    },
    {
      "cell_type": "markdown",
      "source": [
        "Посмотрим содержимое.\n",
        "Метод collect() позволяет получить элементы датасета в виде списка."
      ],
      "metadata": {
        "id": "PO-6ChZOH8fQ"
      }
    },
    {
      "cell_type": "code",
      "source": [
        "rdd_example.collect()"
      ],
      "metadata": {
        "id": "zxgic2Wwl1CW",
        "colab": {
          "base_uri": "https://localhost:8080/"
        },
        "outputId": "013eca20-6303-4881-b57b-32843562e5be"
      },
      "execution_count": 24,
      "outputs": [
        {
          "output_type": "execute_result",
          "data": {
            "text/plain": [
              "[1, 2, 3, 4, 5, 6, 7, 8, 9, 10]"
            ]
          },
          "metadata": {},
          "execution_count": 24
        }
      ]
    },
    {
      "cell_type": "markdown",
      "source": [
        "Метод take(n) возвращает в виде массива или списка первые n элементов:"
      ],
      "metadata": {
        "id": "DPkq9d2FIUoW"
      }
    },
    {
      "cell_type": "code",
      "source": [
        "rdd_example.take(3)"
      ],
      "metadata": {
        "colab": {
          "base_uri": "https://localhost:8080/"
        },
        "id": "YiDfxgT1IWuM",
        "outputId": "1d78ba98-60b5-42f5-a8a8-4e1bb0e05762"
      },
      "execution_count": 25,
      "outputs": [
        {
          "output_type": "execute_result",
          "data": {
            "text/plain": [
              "[1, 2, 3]"
            ]
          },
          "metadata": {},
          "execution_count": 25
        }
      ]
    },
    {
      "cell_type": "markdown",
      "source": [
        "Метод count() нужен для подсчета количества элементов в датасете:"
      ],
      "metadata": {
        "id": "QVSaUVbVIdRP"
      }
    },
    {
      "cell_type": "code",
      "source": [
        "rdd_example.count()"
      ],
      "metadata": {
        "colab": {
          "base_uri": "https://localhost:8080/"
        },
        "id": "gMwp4cB7IeOb",
        "outputId": "5857742e-b1e8-49b0-f9f2-2c2bf67d390d"
      },
      "execution_count": 26,
      "outputs": [
        {
          "output_type": "execute_result",
          "data": {
            "text/plain": [
              "10"
            ]
          },
          "metadata": {},
          "execution_count": 26
        }
      ]
    },
    {
      "cell_type": "markdown",
      "source": [
        "**RDD Transformations**\n",
        "\n",
        "Основными преобразованиями являются методы map(), filter(), distinct()."
      ],
      "metadata": {
        "id": "P2wH27sjmE7O"
      }
    },
    {
      "cell_type": "code",
      "metadata": {
        "id": "tPHvphCuGJa5"
      },
      "source": [
        "rdd_example.map(lambda x: x ** 2)"
      ],
      "execution_count": null,
      "outputs": []
    },
    {
      "cell_type": "code",
      "source": [
        "rdd_example.filter(lambda x: x < 5)"
      ],
      "metadata": {
        "id": "uTTF39tvo82F"
      },
      "execution_count": null,
      "outputs": []
    },
    {
      "cell_type": "code",
      "source": [
        "rdd_example.distinct()"
      ],
      "metadata": {
        "colab": {
          "base_uri": "https://localhost:8080/"
        },
        "id": "R5U3XHCXIsax",
        "outputId": "fdb8e518-ae8b-4432-c6d4-a2077273346d"
      },
      "execution_count": 28,
      "outputs": [
        {
          "output_type": "execute_result",
          "data": {
            "text/plain": [
              "[2, 4, 6, 8, 10, 1, 3, 5, 7, 9]"
            ]
          },
          "metadata": {},
          "execution_count": 28
        }
      ]
    },
    {
      "cell_type": "markdown",
      "source": [
        "**RDD Actions**"
      ],
      "metadata": {
        "id": "57BCec4xmHgT"
      }
    },
    {
      "cell_type": "code",
      "source": [
        "rdd_example.count()"
      ],
      "metadata": {
        "id": "tEYO0vJcnTNN",
        "colab": {
          "base_uri": "https://localhost:8080/"
        },
        "outputId": "e6221e8f-340c-4c2c-80a3-40de06aa8a23"
      },
      "execution_count": 29,
      "outputs": [
        {
          "output_type": "execute_result",
          "data": {
            "text/plain": [
              "10"
            ]
          },
          "metadata": {},
          "execution_count": 29
        }
      ]
    },
    {
      "cell_type": "code",
      "source": [
        "rdd_example.sum()"
      ],
      "metadata": {
        "id": "TLoZdQ6Mnb65",
        "colab": {
          "base_uri": "https://localhost:8080/"
        },
        "outputId": "eaf89aa6-4ded-4432-89df-dcbe0719215c"
      },
      "execution_count": 30,
      "outputs": [
        {
          "output_type": "execute_result",
          "data": {
            "text/plain": [
              "55"
            ]
          },
          "metadata": {},
          "execution_count": 30
        }
      ]
    },
    {
      "cell_type": "code",
      "source": [
        "from operator import add\n",
        "\n",
        "rdd_example.reduce(add)"
      ],
      "metadata": {
        "id": "ID_K7FAKnexj",
        "colab": {
          "base_uri": "https://localhost:8080/"
        },
        "outputId": "04be00dc-cb10-4f98-e388-56cbcad048a6"
      },
      "execution_count": 31,
      "outputs": [
        {
          "output_type": "execute_result",
          "data": {
            "text/plain": [
              "55"
            ]
          },
          "metadata": {},
          "execution_count": 31
        }
      ]
    },
    {
      "cell_type": "code",
      "metadata": {
        "id": "dHLuuqMNXg2N"
      },
      "source": [
        "rdd_example.saveAsTextFile('test')"
      ],
      "execution_count": 32,
      "outputs": []
    },
    {
      "cell_type": "markdown",
      "source": [
        "**Преобразование DataFrame >> RDD**"
      ],
      "metadata": {
        "id": "kKwr_7aMdJRI"
      }
    },
    {
      "cell_type": "code",
      "source": [
        "rdd_fraud_data = grouped_fraud_data.rdd"
      ],
      "metadata": {
        "id": "Y-MZSl3mdNwo",
        "colab": {
          "base_uri": "https://localhost:8080/",
          "height": 139
        },
        "outputId": "5f6a2997-9a29-42c4-9430-337b6704ab19"
      },
      "execution_count": 33,
      "outputs": [
        {
          "output_type": "error",
          "ename": "NameError",
          "evalue": "name 'grouped_fraud_data' is not defined",
          "traceback": [
            "\u001b[0;31m---------------------------------------------------------------------------\u001b[0m",
            "\u001b[0;31mNameError\u001b[0m                                 Traceback (most recent call last)",
            "\u001b[0;32m<ipython-input-33-d65f53179885>\u001b[0m in \u001b[0;36m<cell line: 1>\u001b[0;34m()\u001b[0m\n\u001b[0;32m----> 1\u001b[0;31m \u001b[0mrdd_fraud_data\u001b[0m \u001b[0;34m=\u001b[0m \u001b[0mgrouped_fraud_data\u001b[0m\u001b[0;34m.\u001b[0m\u001b[0mrdd\u001b[0m\u001b[0;34m\u001b[0m\u001b[0;34m\u001b[0m\u001b[0m\n\u001b[0m",
            "\u001b[0;31mNameError\u001b[0m: name 'grouped_fraud_data' is not defined"
          ]
        }
      ]
    },
    {
      "cell_type": "code",
      "source": [
        "type(rdd_fraud_data)"
      ],
      "metadata": {
        "id": "eCDYiylAbJp1"
      },
      "execution_count": null,
      "outputs": []
    },
    {
      "cell_type": "code",
      "source": [
        "rdd_fraud_data.collect()"
      ],
      "metadata": {
        "id": "2H4pIbl6oDyf"
      },
      "execution_count": null,
      "outputs": []
    },
    {
      "cell_type": "markdown",
      "source": [
        "**Выведите строку со значением merchant = 'fraud_Will Ltd'**"
      ],
      "metadata": {
        "id": "a2aBFVFyrABN"
      }
    },
    {
      "cell_type": "code",
      "source": [
        "# code here"
      ],
      "metadata": {
        "id": "2A_nW3zSqU4b"
      },
      "execution_count": null,
      "outputs": []
    },
    {
      "cell_type": "markdown",
      "metadata": {
        "id": "owY69CNCn6Ef"
      },
      "source": [
        "# UDF (User defined functions)"
      ]
    },
    {
      "cell_type": "code",
      "metadata": {
        "id": "_RL6gwqaYBzZ"
      },
      "source": [
        "import pyspark.sql.functions as F\n",
        "from pyspark.sql.types import BooleanType"
      ],
      "execution_count": null,
      "outputs": []
    },
    {
      "cell_type": "markdown",
      "source": [
        "Преобразуем значения поля is_fraud 0/1::integer в false/true::boolean"
      ],
      "metadata": {
        "id": "CjGOKAlPK7uR"
      }
    },
    {
      "cell_type": "code",
      "metadata": {
        "id": "-1VaEACyl9t9"
      },
      "source": [
        "is_one_udf = F.udf(lambda x: True if x and x == 1 else False, BooleanType())"
      ],
      "execution_count": null,
      "outputs": []
    },
    {
      "cell_type": "code",
      "metadata": {
        "id": "YSuwIDYMmz4r"
      },
      "source": [
        "data_fraud.withColumn('is_fraud', is_one_udf('id')).show()"
      ],
      "execution_count": null,
      "outputs": []
    }
  ]
}